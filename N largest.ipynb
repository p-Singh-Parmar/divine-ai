{
 "cells": [
  {
   "cell_type": "code",
   "execution_count": 1,
   "id": "3159aaa3",
   "metadata": {},
   "outputs": [
    {
     "name": "stdout",
     "output_type": "stream",
     "text": [
      "enter the Nth largest you want to find:2\n",
      "6\n"
     ]
    }
   ],
   "source": [
    "# for finding Nth largest\n",
    "l1=[2,6,1,5,7]\n",
    "l2=l1\n",
    "n=int(input(\"enter the Nth largest you want to find:\"))\n",
    "\n",
    "for i in l1:\n",
    "    c=0\n",
    "    for j in l2:\n",
    "        if i<j:\n",
    "            c+=1\n",
    "            \n",
    "    if c==n-1:\n",
    "        print(i)\n",
    "        break"
   ]
  },
  {
   "cell_type": "code",
   "execution_count": null,
   "id": "cbed220d",
   "metadata": {},
   "outputs": [],
   "source": []
  }
 ],
 "metadata": {
  "kernelspec": {
   "display_name": "Python 3",
   "language": "python",
   "name": "python3"
  },
  "language_info": {
   "codemirror_mode": {
    "name": "ipython",
    "version": 3
   },
   "file_extension": ".py",
   "mimetype": "text/x-python",
   "name": "python",
   "nbconvert_exporter": "python",
   "pygments_lexer": "ipython3",
   "version": "3.8.11"
  }
 },
 "nbformat": 4,
 "nbformat_minor": 5
}
