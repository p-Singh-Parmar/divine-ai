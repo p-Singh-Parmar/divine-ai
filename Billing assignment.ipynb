{
 "cells": [
  {
   "cell_type": "markdown",
   "id": "f6f848af",
   "metadata": {},
   "source": [
    "# Files"
   ]
  },
  {
   "cell_type": "code",
   "execution_count": 1,
   "id": "310a30be",
   "metadata": {},
   "outputs": [],
   "source": [
    "def receipt(bill, file):\n",
    "    total=0\n",
    "    name='ITEM'\n",
    "    number='QUANTITY'\n",
    "    price='RATE'\n",
    "    tot='TOTAL PRICE'\n",
    "    file.write('GROCERY STORE\\n\\n')\n",
    "    file.write(f'{name:{20}} {number:^20}{price:^20}{tot:>20}'+'\\n')\n",
    "    for item, price in bill.items():\n",
    "        tot_rate=price[0]*price[1]\n",
    "        file.write(f'{item:{20}} {price[0]:^20}{price[1]:^20}{tot_rate:>20}'+'\\n')\n",
    "        total+=tot_rate\n",
    "        \n",
    "    file.write('\\n'+'Total = '+ format(total, '.2f')+'\\n')\n",
    "    file.close()"
   ]
  },
  {
   "cell_type": "code",
   "execution_count": 2,
   "id": "f4a6521d",
   "metadata": {},
   "outputs": [],
   "source": [
    "bill = {\"Coppuccino\":[2,45],\"Ice cream\":[4,75], \"Tea\":[5,7], \"Samosa\":[2,15]}\n",
    "file = open('receipt.txt', 'w')\n",
    "receipt(bill,file)"
   ]
  },
  {
   "cell_type": "code",
   "execution_count": null,
   "id": "879e17db",
   "metadata": {},
   "outputs": [],
   "source": []
  }
 ],
 "metadata": {
  "kernelspec": {
   "display_name": "Python 3",
   "language": "python",
   "name": "python3"
  },
  "language_info": {
   "codemirror_mode": {
    "name": "ipython",
    "version": 3
   },
   "file_extension": ".py",
   "mimetype": "text/x-python",
   "name": "python",
   "nbconvert_exporter": "python",
   "pygments_lexer": "ipython3",
   "version": "3.8.11"
  }
 },
 "nbformat": 4,
 "nbformat_minor": 5
}
